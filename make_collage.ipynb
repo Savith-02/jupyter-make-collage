{
  "nbformat": 4,
  "nbformat_minor": 0,
  "metadata": {
    "colab": {
      "provenance": [],
      "include_colab_link": true
    },
    "kernelspec": {
      "name": "python3",
      "display_name": "Python 3"
    },
    "language_info": {
      "name": "python"
    }
  },
  "cells": [
    {
      "cell_type": "markdown",
      "metadata": {
        "id": "view-in-github",
        "colab_type": "text"
      },
      "source": [
        "<a href=\"https://colab.research.google.com/github/Savith-02/Notebooks/blob/main/make_collage.ipynb\" target=\"_parent\"><img src=\"https://colab.research.google.com/assets/colab-badge.svg\" alt=\"Open In Colab\"/></a>"
      ]
    },
    {
      "cell_type": "code",
      "source": [
        "import os\n",
        "import shutil\n",
        "\n",
        "def delete_files_recursively_and_folder(folder_path):\n",
        "    try:\n",
        "        shutil.rmtree(folder_path)\n",
        "        print(f\"Deleted folder and its contents: {folder_path}\")\n",
        "    except Exception as e:\n",
        "        print(f\"Failed to delete folder and its contents: {folder_path}, Error: {e}\")\n"
      ],
      "metadata": {
        "id": "URj_t6zQD7wY"
      },
      "execution_count": 14,
      "outputs": []
    },
    {
      "cell_type": "code",
      "source": [
        "def delete_single(folder_path, file):\n",
        "    for root, dirs, files in os.walk(folder_path):\n",
        "        for f in files:\n",
        "            if f == file:\n",
        "                file_path = os.path.join(root, f)\n",
        "                try:\n",
        "                    os.remove(file_path)\n",
        "                    print(f\"Deleted file: {file_path}\")\n",
        "                except Exception as e:\n",
        "                    print(f\"Failed to delete file: {file_path}, Error: {e}\")\n",
        "\n",
        "# Example usage\n",
        "# folder_path = \"output\"\n",
        "# file_name = \"example.txt\"\n",
        "# delete_single(folder_path, file_name)"
      ],
      "metadata": {
        "id": "VF7LwT9NbsGu"
      },
      "execution_count": 6,
      "outputs": []
    },
    {
      "cell_type": "code",
      "source": [
        "delete_files_recursively_and_folder(\"input\")"
      ],
      "metadata": {
        "id": "6UiCr4djD-uL"
      },
      "execution_count": null,
      "outputs": []
    },
    {
      "cell_type": "code",
      "source": [
        "delete_files_recursively_and_folder(\"output\")"
      ],
      "metadata": {
        "id": "ZEvxzMaNdFNp",
        "colab": {
          "base_uri": "https://localhost:8080/"
        },
        "outputId": "e362422e-b8b6-4ed1-8b5d-ad15157e200d"
      },
      "execution_count": 15,
      "outputs": [
        {
          "output_type": "stream",
          "name": "stdout",
          "text": [
            "Deleted folder and its contents: output\n"
          ]
        }
      ]
    },
    {
      "cell_type": "code",
      "source": [
        "import shutil\n",
        "\n",
        "def copy_files(source_folder, destination_folder):\n",
        "    try:\n",
        "        # Copy all files from source folder to destination folder\n",
        "        shutil.copytree(source_folder, destination_folder)\n",
        "        print(\"Files copied successfully!\")\n",
        "    except FileNotFoundError:\n",
        "        print(\"Source folder does not exist.\")\n",
        "    except FileExistsError:\n",
        "        print(\"Destination folder already exists.\")\n",
        "\n",
        "# Example usage:\n",
        "source_folder = \"drive/MyDrive/input/test\"\n",
        "destination_folder = \"input\"\n",
        "\n",
        "copy_files(source_folder, destination_folder)\n"
      ],
      "metadata": {
        "colab": {
          "base_uri": "https://localhost:8080/"
        },
        "id": "cZUwlrJkJg2C",
        "outputId": "f69f6e41-9d68-441b-983e-cef87fe77000"
      },
      "execution_count": null,
      "outputs": [
        {
          "output_type": "stream",
          "name": "stdout",
          "text": [
            "Files copied successfully!\n"
          ]
        }
      ]
    },
    {
      "cell_type": "code",
      "source": [
        "from google.colab import drive\n",
        "drive.mount('/content/drive')"
      ],
      "metadata": {
        "colab": {
          "base_uri": "https://localhost:8080/"
        },
        "id": "ptlYA_1lnest",
        "outputId": "d0b2b836-fbaf-4966-8140-2d953555710e"
      },
      "execution_count": null,
      "outputs": [
        {
          "output_type": "stream",
          "name": "stdout",
          "text": [
            "Drive already mounted at /content/drive; to attempt to forcibly remount, call drive.mount(\"/content/drive\", force_remount=True).\n"
          ]
        }
      ]
    },
    {
      "cell_type": "markdown",
      "source": [
        "# New section"
      ],
      "metadata": {
        "id": "mzKYbAphDWSf"
      }
    },
    {
      "cell_type": "code",
      "source": [
        "import torch\n",
        "import torchvision.transforms as transforms\n",
        "from PIL import Image\n",
        "\n",
        "img_1_channels = []\n",
        "def check_image(folder_path):\n",
        "\n",
        "    transform = transforms.Compose([\n",
        "        transforms.ToTensor(),  # Convert PIL image to tensor\n",
        "        transforms.Lambda(lambda x: x * 255)  # Convert pixel values from [0,1] to [0,255]\n",
        "    ])\n",
        "    files = os.listdir(folder_path)\n",
        "    # for filename in os.listdir(input_folder):\n",
        "    for filename in files:\n",
        "        input_path = os.path.join(folder_path, filename)\n",
        "\n",
        "        # Read image\n",
        "        image = Image.open(input_path)\n",
        "\n",
        "        # Apply transformation\n",
        "        image = transform(image)\n",
        "\n",
        "        if image.shape[0] == 1:\n",
        "          print(filename)\n",
        "          img_1_channels.append(filename)\n",
        "check_image(\"input\")"
      ],
      "metadata": {
        "id": "q0yiiiz7C0gq"
      },
      "execution_count": null,
      "outputs": []
    },
    {
      "cell_type": "code",
      "source": [
        "import os\n",
        "\n",
        "def rename_files(folder_path):\n",
        "    try:\n",
        "        # List all files in the folder\n",
        "        files = os.listdir(folder_path)\n",
        "\n",
        "        # Iterate over each file and rename them\n",
        "        for i, filename in enumerate(files, start=0):\n",
        "            # Construct new filename\n",
        "            if filename in img_1_channels:\n",
        "              continue\n",
        "            new_filename = f\"{i}.png\"  # You can modify the extension as needed\n",
        "\n",
        "            # Rename file\n",
        "            os.rename(os.path.join(folder_path, filename), os.path.join(folder_path, new_filename))\n",
        "\n",
        "        print(\"Files renamed successfully!\")\n",
        "    except FileNotFoundError:\n",
        "        print(\"Folder does not exist.\")\n",
        "\n",
        "# Example usage:\n",
        "folder_path = \"input\"\n",
        "\n",
        "rename_files(folder_path)\n"
      ],
      "metadata": {
        "colab": {
          "base_uri": "https://localhost:8080/"
        },
        "id": "UU9a5GVcJ5b5",
        "outputId": "aca74841-91af-4190-c3c9-8be7d6f02139"
      },
      "execution_count": null,
      "outputs": [
        {
          "output_type": "stream",
          "name": "stdout",
          "text": [
            "Files renamed successfully!\n"
          ]
        }
      ]
    },
    {
      "cell_type": "code",
      "source": [
        "import os\n",
        "\n",
        "def get_files_to_list(input_folder):\n",
        "\n",
        "    image_paths = []\n",
        "    # Create output folder if it doesn't exist\n",
        "    for filename in os.listdir(input_folder):\n",
        "        input_path = os.path.join(input_folder, filename)\n",
        "\n",
        "        # Skip directories\n",
        "        if os.path.isdir(input_path):\n",
        "            continue\n",
        "        image_paths.append(input_path[6:])\n",
        "    return image_paths\n",
        "\n",
        "file_list = get_files_to_list(\"input\")"
      ],
      "metadata": {
        "id": "5e4UjmgeLAjq"
      },
      "execution_count": null,
      "outputs": []
    },
    {
      "cell_type": "code",
      "source": [
        "print(file_list)"
      ],
      "metadata": {
        "colab": {
          "base_uri": "https://localhost:8080/"
        },
        "id": "Ips-MAL3Ls1R",
        "outputId": "372c3c65-ac67-470e-fa8c-195dc57a6bc4"
      },
      "execution_count": null,
      "outputs": [
        {
          "output_type": "stream",
          "name": "stdout",
          "text": [
            "['18.png', '33.png', '25.png', '60.png', '19.png', '11.png', '0.png', '28.png', '56.png', '4.png', '21.png', '61.png', '1.png', '43.png', '32.png', '3.png', '51.png', '57.png', '12.png', '41.png', '14.png', '47.png', '23.png', '38.png', '24.png', '2.png', '62.png', '16.png', '37.png', '44.png', '54.png', '55.png', '27.png', '7.png', '20.png', '40.png', '31.png', '26.png', '45.png', '9.png', '8.png', '59.png', '53.png', '52.png', '13.png', '39.png', '29.png', '10.png', '36.png', '15.png', '35.png', '49.png', '63.png', '22.png', '48.png', '42.png', '34.png', '30.png', '58.png', '46.png', '50.png', '5.png', '17.png', '6.png']\n"
          ]
        }
      ]
    },
    {
      "cell_type": "code",
      "source": [
        "# Define a custom sorting key function to extract the numeric part of the file paths\n",
        "def key_function(file_path):\n",
        "    # Extract the numeric part of the file name\n",
        "    file_name = os.path.basename(file_path)\n",
        "    numeric_part = \"\".join(filter(str.isdigit, file_name))\n",
        "    return int(numeric_part)\n",
        "\n",
        "# Sort the file paths using the custom sorting key\n",
        "sorted_file_names = sorted(file_list, key=key_function)\n",
        "\n",
        "print(sorted_file_names)"
      ],
      "metadata": {
        "colab": {
          "base_uri": "https://localhost:8080/"
        },
        "id": "SB0IiOFAMhgy",
        "outputId": "b7b005ee-e8ba-4545-df57-745972746abb"
      },
      "execution_count": null,
      "outputs": [
        {
          "output_type": "stream",
          "name": "stdout",
          "text": [
            "['0.png', '1.png', '2.png', '3.png', '4.png', '5.png', '6.png', '7.png', '8.png', '9.png', '10.png', '11.png', '12.png', '13.png', '14.png', '15.png', '16.png', '17.png', '18.png', '19.png', '20.png', '21.png', '22.png', '23.png', '24.png', '25.png', '26.png', '27.png', '28.png', '29.png', '30.png', '31.png', '32.png', '33.png', '34.png', '35.png', '36.png', '37.png', '38.png', '39.png', '40.png', '41.png', '42.png', '43.png', '44.png', '45.png', '46.png', '47.png', '48.png', '49.png', '50.png', '51.png', '52.png', '53.png', '54.png', '55.png', '56.png', '57.png', '58.png', '59.png', '60.png', '61.png', '62.png', '63.png']\n"
          ]
        }
      ]
    },
    {
      "cell_type": "code",
      "source": [
        "def dark_purple_filter(img):\n",
        "    if img.shape[0] == 4:\n",
        "      factor = 70\n",
        "      img[0, :, :] = torch.clamp(img[0, :, :]  - factor, 0,  255)\n",
        "      img[2, :, :] = torch.clamp(img[2, :, :] - factor, 0, 255)\n",
        "      img[1, :, :] = torch.clamp(img[1, :, :] - (factor * 2), 0, 255)\n",
        "    return img"
      ],
      "metadata": {
        "id": "EWaoQwz9y9HJ"
      },
      "execution_count": null,
      "outputs": []
    },
    {
      "cell_type": "code",
      "source": [
        "def light_purple_filter(img):\n",
        "    if img.shape[0] == 4:\n",
        "      factor = 70\n",
        "      img[0, :, :] = torch.clamp(img[0, :, :]  + factor, 0,  255)\n",
        "      img[2, :, :] = torch.clamp(img[2, :, :] + factor, 0, 255)\n",
        "      img[1, :, :] = torch.clamp(img[1, :, :] - (factor // 2), 0, 255)\n",
        "    return img"
      ],
      "metadata": {
        "id": "CF1f8B1g6H3x"
      },
      "execution_count": null,
      "outputs": []
    },
    {
      "cell_type": "code",
      "source": [
        "def lighten_filter(img):\n",
        "    if img.shape[0] == 4:\n",
        "      factor = 40\n",
        "      img[0, :, :] = torch.clamp(img[0, :, :]  + 2.3 * factor, 0,  255)\n",
        "      img[2, :, :] = torch.clamp(img[2, :, :] + 2.3 * factor, 0, 255)\n",
        "      img[1, :, :] = torch.clamp(img[1, :, :] + 2.3 * factor, 0, 255)\n",
        "    return img"
      ],
      "metadata": {
        "id": "aOMsfV7C6dpM"
      },
      "execution_count": null,
      "outputs": []
    },
    {
      "cell_type": "code",
      "source": [
        "def darken_filter(img):\n",
        "    factor = 110\n",
        "    img[0, :, :] = torch.clamp(img[0, :, :]  - factor, 0,  255)\n",
        "    img[2, :, :] = torch.clamp(img[2, :, :] - factor, 0, 255)\n",
        "    img[1, :, :] = torch.clamp(img[1, :, :] - factor * 1.2, 0, 255)\n",
        "    return img"
      ],
      "metadata": {
        "id": "bIWo2IeD7Bi7"
      },
      "execution_count": null,
      "outputs": []
    },
    {
      "cell_type": "code",
      "source": [
        "def darkest_filter(img):\n",
        "    factor = 120\n",
        "    img[0, :, :] = torch.clamp(img[0, :, :]  - factor, 0,  255)\n",
        "    img[2, :, :] = torch.clamp(img[2, :, :] - factor, 0, 255)\n",
        "    img[1, :, :] = torch.clamp(img[1, :, :] - factor * 1.2, 0, 255)\n",
        "    return img"
      ],
      "metadata": {
        "id": "oZF5KDbuaqrT"
      },
      "execution_count": null,
      "outputs": []
    },
    {
      "cell_type": "code",
      "execution_count": null,
      "metadata": {
        "colab": {
          "base_uri": "https://localhost:8080/"
        },
        "id": "JJNzkcef0fMr",
        "outputId": "7d359c93-bc2b-402e-96c5-7efeffc4c7c8"
      },
      "outputs": [
        {
          "output_type": "stream",
          "name": "stdout",
          "text": [
            "darkerrr: 0.png\n",
            "darkerrr: 1.png\n",
            "d purple: 2.png\n",
            "d purple: 3.png\n",
            "d purple: 4.png\n",
            "darkerrr: 5.png\n",
            "darkerrr: 6.png\n",
            "darkerrr: 7.png\n",
            "d purple: 8.png\n",
            "l purple: 9.png\n",
            "l purple: 10.png\n",
            "lighten: 11.png\n",
            "d purple: 12.png\n",
            "l purple: 13.png\n",
            "l purple: 14.png\n",
            "d purple: 15.png\n",
            "d purple: 16.png\n",
            "lighten: 17.png\n",
            "l purple: 18.png\n",
            "lighten: 19.png\n",
            "l purple: 20.png\n",
            "lighten: 21.png\n",
            "lighten: 22.png\n",
            "l purple: 23.png\n",
            "d purple: 24.png\n",
            "lighten: 25.png\n",
            "l purple: 26.png\n",
            "lighten: 27.png\n",
            "l purple: 28.png\n",
            "lighten: 29.png\n",
            "l purple: 30.png\n",
            "l purple: 31.png\n",
            "d purple: 32.png\n",
            "lighten: 33.png\n",
            "lighten: 34.png\n",
            "lighten: 35.png\n",
            "l purple: 36.png\n",
            "lighten: 37.png\n",
            "lighten: 38.png\n",
            "d purple: 39.png\n",
            "d purple: 40.png\n",
            "lighten: 41.png\n",
            "l purple: 42.png\n",
            "lighten: 43.png\n",
            "l purple: 44.png\n",
            "l purple: 45.png\n",
            "d purple: 46.png\n",
            "d purple: 47.png\n",
            "d purple: 48.png\n",
            "lighten: 49.png\n",
            "l purple: 50.png\n",
            "d purple: 51.png\n",
            "d purple: 52.png\n",
            "darkerrr: 53.png\n",
            "darkerrr: 54.png\n",
            "darkerrr: 55.png\n",
            "d purple: 56.png\n",
            "d purple: 57.png\n",
            "d purple: 58.png\n",
            "darkerrr: 59.png\n",
            "darkerrr: 60.png\n",
            "darkerrr: 61.png\n",
            "darkerrr: 62.png\n",
            "darkerrr: 63.png\n"
          ]
        },
        {
          "output_type": "execute_result",
          "data": {
            "text/plain": [
              "64"
            ]
          },
          "metadata": {},
          "execution_count": 496
        }
      ],
      "source": [
        "import torch\n",
        "import torchvision.transforms as transforms\n",
        "from PIL import Image\n",
        "import os\n",
        "\n",
        "# Function to read images from folder, apply purple hue filter, and save them to output folder\n",
        "def process_images_and_save(input_folder, output_folder):\n",
        "\n",
        "    images = []\n",
        "    # Create output folder if it doesn't exist\n",
        "    if not os.path.exists(output_folder):\n",
        "        os.makedirs(output_folder)\n",
        "\n",
        "    transform = transforms.Compose([\n",
        "        transforms.ToTensor(),  # Convert PIL image to tensor\n",
        "        transforms.Lambda(lambda x: x * 255)  # Convert pixel values from [0,1] to [0,255]\n",
        "    ])\n",
        "\n",
        "    lighten = [11, 17, 19, 21, 22, 25, 27, 29, 33, 34, 35, 37, 38, 41, 43, 49]\n",
        "    lighten_cell = [str(number) + \".png\" for number in lighten]\n",
        "\n",
        "    light_purple = [9, 10, 13, 14, 18, 20, 23, 26, 28, 30, 31, 36, 42, 44, 45, 50]\n",
        "    light_purple_cell = [str(number) + \".png\" for number in light_purple]\n",
        "\n",
        "    dark_purple = [2, 3, 4, 8, 12, 15, 16, 24, 32, 39, 40, 46, 47, 48, 51, 52, 56, 57, 58]\n",
        "    dark_purple_cell = [str(number) + \".png\" for number in dark_purple]\n",
        "\n",
        "    darken = []\n",
        "    darken_cell = [str(number) + \".png\" for number in darken]\n",
        "\n",
        "    darkest = []\n",
        "    darkest_cell = [str(number) + \".png\" for number in lighten]\n",
        "\n",
        "    # for filename in os.listdir(input_folder):\n",
        "    for filename in sorted_file_names:\n",
        "        input_path = os.path.join(input_folder, filename)\n",
        "        # Skip directories\n",
        "        # if os.path.isdir(input_path):\n",
        "        #     continue\n",
        "        output_path = os.path.join(output_folder, filename)\n",
        "\n",
        "        # Read image\n",
        "        img = Image.open(input_path)\n",
        "\n",
        "        # Apply transformation\n",
        "        img = transform(img)\n",
        "\n",
        "        # numbers = [3, 4, 7, 13, 19, 22, 23]\n",
        "        # ignore_files = [str(number) + \".png\" for number in numbers]\n",
        "        # if filename in ignore_files:\n",
        "        #   img_pil = transforms.ToPILImage()(img.byte())\n",
        "        #   img_pil.save(output_path)\n",
        "        #   images.append(img)\n",
        "        #   continue\n",
        "\n",
        "        # print(filename)\n",
        "        # print(img.shape[0])\n",
        "        if img.shape[0] == 1:\n",
        "          # modified_tensor = torch.full((3, *img.size()[1:]), 255, dtype=img.dtype, device=img.device)\n",
        "          # img = torch.cat((modified_tensor, img), dim=0)\n",
        "          # print(\"Channels = 1: \" + filename)\n",
        "          continue\n",
        "        # if  img.shape[0] < 3 or 4 < img.shape[0] == 3:\n",
        "        #   print(filename)\n",
        "        #   print(img.size())\n",
        "        if img.shape[0] == 3:\n",
        "          # ones_tensor = torch.ones(1, *img.size()[1:], dtype=img.dtype, device=img.device)\n",
        "          modified_tensor = torch.full((1, *img.size()[1:]), 255, dtype=img.dtype, device=img.device)\n",
        "          img = torch.cat((img, modified_tensor), dim=0)\n",
        "          # print(\"Channels = 3: \" + filename)\n",
        "\n",
        "        if img.shape[0] == 4:\n",
        "          # print(\"Accepted\")\n",
        "          # print(img.size())\n",
        "\n",
        "          if filename in dark_purple_cell:\n",
        "            print(\"d purple: \" + filename)\n",
        "            img = dark_purple_filter(img)\n",
        "          elif filename in light_purple_cell:\n",
        "            print(\"l purple: \" + filename)\n",
        "            img = light_purple_filter(img)\n",
        "          elif filename in lighten_cell:\n",
        "            print(\"lighten: \" + filename)\n",
        "            img = lighten_filter(img)\n",
        "          elif filename in darken_cell:\n",
        "            print(\"darken: \" + filename)\n",
        "            img = darken_filter(img)\n",
        "          else:\n",
        "            print(\"darkerrr: \" + filename)\n",
        "            img = darkest_filter(img)\n",
        "\n",
        "        # Convert tensor back to PIL image\n",
        "          img_pil = transforms.ToPILImage()(img.byte())\n",
        "        # Save processed image to output folder\n",
        "          img_pil.save(output_path)\n",
        "          images.append(img)\n",
        "    return images\n",
        "\n",
        "\n",
        "# Example usage:\n",
        "input_folder = \"input\"\n",
        "output_folder = \"output\"\n",
        "\n",
        "images = process_images_and_save(input_folder, output_folder)\n",
        "len(images)"
      ]
    },
    {
      "cell_type": "code",
      "source": [
        "# Specify the output folder path\n",
        "\n",
        "# Call the function to delete files recursively\n",
        "# delete_files_recursively(\"output\")"
      ],
      "metadata": {
        "id": "CIJxpcNY8xp_"
      },
      "execution_count": null,
      "outputs": []
    },
    {
      "cell_type": "code",
      "source": [
        "def create_collage(images):\n",
        "    # Resize images to fit collage\n",
        "    # for img in images:\n",
        "      # print(img.shape)\n",
        "    dim = 8\n",
        "    # images = images[0: dim * dim]\n",
        "    print(len(images))\n",
        "    resized_images = [torch.nn.functional.interpolate(img.unsqueeze(0), size=(200, 200), mode='bilinear', align_corners=False).squeeze(0) for img in images]\n",
        "    # Create a blank canvas for the collage\n",
        "    collage = torch.zeros(4, 8* 200,  8* 200)\n",
        "\n",
        "    # Place images in the collage\n",
        "    for i in range(dim):\n",
        "        for j in range(dim):\n",
        "            img_index = i * dim + j\n",
        "            if img_index < len(resized_images):\n",
        "                collage[:, i * 200:(i + 1) * 200, j * 200:(j + 1) * 200] = resized_images[img_index]\n",
        "\n",
        "    return collage\n",
        "\n",
        "\n",
        "# Create collage\n",
        "collage = create_collage(images)"
      ],
      "metadata": {
        "id": "RPQIhZdt2AbM",
        "colab": {
          "base_uri": "https://localhost:8080/"
        },
        "outputId": "cf8fe407-5dd9-4245-808d-5e7e183c0603"
      },
      "execution_count": null,
      "outputs": [
        {
          "output_type": "stream",
          "name": "stdout",
          "text": [
            "64\n"
          ]
        }
      ]
    },
    {
      "cell_type": "code",
      "source": [
        "collage.shape"
      ],
      "metadata": {
        "colab": {
          "base_uri": "https://localhost:8080/"
        },
        "id": "Ofp3lwDcCuHo",
        "outputId": "f3756e6c-1e25-4acc-a335-456979718c0b"
      },
      "execution_count": null,
      "outputs": [
        {
          "output_type": "execute_result",
          "data": {
            "text/plain": [
              "torch.Size([4, 1600, 1600])"
            ]
          },
          "metadata": {},
          "execution_count": 499
        }
      ]
    },
    {
      "cell_type": "code",
      "source": [
        "def save_image(img, output_folder):\n",
        "  if not os.path.exists(output_folder):\n",
        "        os.makedirs(output_folder)\n",
        "  output_path = os.path.join(output_folder, \"collage.png\")\n",
        "  img_pil = transforms.ToPILImage()(img.byte())\n",
        "  # Save processed image to output folder\n",
        "  img_pil.save(output_path)"
      ],
      "metadata": {
        "id": "un4qnmp-BkgY"
      },
      "execution_count": null,
      "outputs": []
    },
    {
      "cell_type": "code",
      "source": [
        "save_image(collage, \"collage\")"
      ],
      "metadata": {
        "id": "o4cTxV3uCPhJ"
      },
      "execution_count": null,
      "outputs": []
    },
    {
      "cell_type": "code",
      "source": [],
      "metadata": {
        "id": "paMJbLNwCU9f"
      },
      "execution_count": null,
      "outputs": []
    }
  ]
}