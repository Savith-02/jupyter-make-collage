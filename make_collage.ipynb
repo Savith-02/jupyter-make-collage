{
  "nbformat": 4,
  "nbformat_minor": 0,
  "metadata": {
    "colab": {
      "provenance": [],
      "gpuType": "T4",
      "include_colab_link": true
    },
    "kernelspec": {
      "name": "python3",
      "display_name": "Python 3"
    },
    "language_info": {
      "name": "python"
    },
    "accelerator": "GPU"
  },
  "cells": [
    {
      "cell_type": "markdown",
      "metadata": {
        "id": "view-in-github",
        "colab_type": "text"
      },
      "source": [
        "<a href=\"https://colab.research.google.com/github/Savith-02/Notebooks/blob/main/make_collage.ipynb\" target=\"_parent\"><img src=\"https://colab.research.google.com/assets/colab-badge.svg\" alt=\"Open In Colab\"/></a>"
      ]
    },
    {
      "cell_type": "code",
      "source": [
        "import os\n",
        "import shutil\n",
        "import torch\n",
        "import torchvision.transforms as transforms\n",
        "from PIL import Image\n",
        "\n",
        "count = 1024"
      ],
      "metadata": {
        "id": "tmctF3VJlTsp"
      },
      "execution_count": null,
      "outputs": []
    },
    {
      "cell_type": "code",
      "source": [
        "def delete_files_recursively_and_folder(folder_path):\n",
        "    try:\n",
        "        shutil.rmtree(folder_path)\n",
        "        print(f\"Deleted folder and its contents: {folder_path}\")\n",
        "    except Exception as e:\n",
        "        print(f\"Failed to delete folder and its contents: {folder_path}, Error: {e}\")\n"
      ],
      "metadata": {
        "id": "URj_t6zQD7wY"
      },
      "execution_count": null,
      "outputs": []
    },
    {
      "cell_type": "code",
      "source": [
        "def delete_single(folder_path, file):\n",
        "    for root, dirs, files in os.walk(folder_path):\n",
        "        for f in files:\n",
        "            if f == file:\n",
        "                file_path = os.path.join(root, f)\n",
        "                try:\n",
        "                    os.remove(file_path)\n",
        "                    print(f\"Deleted file: {file_path}\")\n",
        "                except Exception as e:\n",
        "                    print(f\"Failed to delete file: {file_path}, Error: {e}\")"
      ],
      "metadata": {
        "id": "VF7LwT9NbsGu"
      },
      "execution_count": null,
      "outputs": []
    },
    {
      "cell_type": "code",
      "source": [
        "# delete_files_recursively_and_folder(\"input\")"
      ],
      "metadata": {
        "id": "6UiCr4djD-uL"
      },
      "execution_count": null,
      "outputs": []
    },
    {
      "cell_type": "code",
      "source": [
        "# delete_files_recursively_and_folder(\"output\")"
      ],
      "metadata": {
        "id": "ZEvxzMaNdFNp"
      },
      "execution_count": null,
      "outputs": []
    },
    {
      "cell_type": "code",
      "source": [
        "from google.colab import drive\n",
        "drive.mount('/content/drive')"
      ],
      "metadata": {
        "colab": {
          "base_uri": "https://localhost:8080/"
        },
        "id": "GnLL5AVQfeEb",
        "outputId": "8f49435f-2c86-487a-9772-79f86b7dcf2c"
      },
      "execution_count": null,
      "outputs": [
        {
          "output_type": "stream",
          "name": "stdout",
          "text": [
            "Drive already mounted at /content/drive; to attempt to forcibly remount, call drive.mount(\"/content/drive\", force_remount=True).\n"
          ]
        }
      ]
    },
    {
      "cell_type": "code",
      "source": [
        "def copy_files(source_folder, destination_folder):\n",
        "    try:\n",
        "        # Copy all files from source folder to destination folder\n",
        "        shutil.copytree(source_folder, destination_folder)\n",
        "        print(\"Files copied successfully!\")\n",
        "    except FileNotFoundError:\n",
        "        print(\"Source folder does not exist.\")\n",
        "    except FileExistsError:\n",
        "        print(\"Destination folder already exists.\")\n",
        "\n",
        "source_folder = \"drive/MyDrive/images\"\n",
        "destination_folder = \"input\"\n",
        "\n",
        "copy_files(source_folder, destination_folder)"
      ],
      "metadata": {
        "colab": {
          "base_uri": "https://localhost:8080/"
        },
        "id": "cZUwlrJkJg2C",
        "outputId": "1e14644c-7d33-46c5-9790-a8ea39c87493"
      },
      "execution_count": null,
      "outputs": [
        {
          "output_type": "stream",
          "name": "stdout",
          "text": [
            "Files copied successfully!\n"
          ]
        }
      ]
    },
    {
      "cell_type": "code",
      "source": [
        "img_1_channels = []\n",
        "def check_image(folder_path):\n",
        "\n",
        "    transform = transforms.Compose([\n",
        "        transforms.ToTensor(),  # Convert PIL image to tensor\n",
        "        transforms.Lambda(lambda x: x * 255)  # Convert pixel values from [0,1] to [0,255]\n",
        "    ])\n",
        "    files = os.listdir(folder_path)\n",
        "    # for filename in os.listdir(input_folder):\n",
        "    for filename in files:\n",
        "        input_path = os.path.join(folder_path, filename)\n",
        "\n",
        "        # Read image\n",
        "        if not os.path.isdir(input_path):\n",
        "          image = Image.open(input_path)\n",
        "\n",
        "          # Apply transformation\n",
        "          image = transform(image)\n",
        "\n",
        "          if image.shape[0] == 1:\n",
        "            print(filename)\n",
        "            delete_single(folder_path, filename)\n",
        "            # img_1_channels.append(filename)\n",
        "\n",
        "check_image(\"input\")"
      ],
      "metadata": {
        "id": "q0yiiiz7C0gq",
        "colab": {
          "base_uri": "https://localhost:8080/"
        },
        "outputId": "4116c26f-e4fc-495b-87d8-d7e9b1962e55"
      },
      "execution_count": null,
      "outputs": [
        {
          "output_type": "stream",
          "name": "stdout",
          "text": [
            "1698604163003.png\n",
            "Deleted file: input/1698604163003.png\n",
            "images.png\n",
            "Deleted file: input/images.png\n",
            "images (2).png\n",
            "Deleted file: input/images (2).png\n"
          ]
        }
      ]
    },
    {
      "cell_type": "code",
      "source": [
        "def count_files_in_folder(folder_path):\n",
        "    return len([name for name in os.listdir(folder_path) if os.path.isfile(os.path.join(folder_path, name))])\n",
        "count_files_in_folder(\"input\")"
      ],
      "metadata": {
        "colab": {
          "base_uri": "https://localhost:8080/"
        },
        "id": "rt9glJGGj5Vl",
        "outputId": "fbddd726-c145-4954-95ae-8fdd847495fc"
      },
      "execution_count": null,
      "outputs": [
        {
          "output_type": "execute_result",
          "data": {
            "text/plain": [
              "64"
            ]
          },
          "metadata": {},
          "execution_count": 154
        }
      ]
    },
    {
      "cell_type": "code",
      "source": [
        "def duplicate_images_fill(folder_path, count):\n",
        "    current_count = count_files_in_folder(folder_path)\n",
        "\n",
        "    if current_count >= count:\n",
        "        print(f\"Folder already contains {current_count} files. No duplicates needed.\")\n",
        "        return\n",
        "\n",
        "    files = [file for file in os.listdir(folder_path) if os.path.isfile(os.path.join(folder_path, file))]\n",
        "    files_to_duplicate = files * (count // len(files)) + files[:count % len(files)]\n",
        "\n",
        "    for i in range(count - current_count):\n",
        "        file_to_duplicate = files_to_duplicate[i]\n",
        "        source_file = os.path.join(folder_path, file_to_duplicate)\n",
        "        new_file_name = f\"duplicate_{file_to_duplicate}_{i}\"\n",
        "        destination_file = os.path.join(folder_path, new_file_name)\n",
        "\n",
        "        try:\n",
        "            shutil.copyfile(source_file, destination_file)\n",
        "            current_count += 1\n",
        "            print(f\"Duplicate created: {new_file_name}\")\n",
        "        except Exception as e:\n",
        "            print(f\"Failed to duplicate file: {file_to_duplicate}, Error: {e}\")\n",
        "\n",
        "# Example usage\n",
        "folder_path = \"input\"\n",
        "duplicate_images_fill(folder_path, count)"
      ],
      "metadata": {
        "id": "m-_mOzbDf7EX"
      },
      "execution_count": null,
      "outputs": []
    },
    {
      "cell_type": "code",
      "source": [
        "count_files_in_folder(\"input\")"
      ],
      "metadata": {
        "colab": {
          "base_uri": "https://localhost:8080/"
        },
        "id": "A4-seu9AkUPv",
        "outputId": "a874778e-65b2-45ae-c9c6-f8099c9cfaf7"
      },
      "execution_count": null,
      "outputs": [
        {
          "output_type": "execute_result",
          "data": {
            "text/plain": [
              "1024"
            ]
          },
          "metadata": {},
          "execution_count": 156
        }
      ]
    },
    {
      "cell_type": "code",
      "source": [
        "def rename_files(folder_path):\n",
        "    try:\n",
        "        # List all files in the folder\n",
        "        files = os.listdir(folder_path)\n",
        "\n",
        "        # Iterate over each file and rename them\n",
        "        for i, filename in enumerate(files, start=0):\n",
        "            # Construct new filename\n",
        "            # if filename in img_1_channels:\n",
        "            #   continue\n",
        "            new_filename = f\"{i}.png\"  # You can modify the extension as needed\n",
        "\n",
        "            # Rename file\n",
        "            os.rename(os.path.join(folder_path, filename), os.path.join(folder_path, new_filename))\n",
        "\n",
        "        print(\"Files renamed successfully!\")\n",
        "    except FileNotFoundError:\n",
        "        print(\"Folder does not exist.\")\n",
        "\n",
        "# Example usage:\n",
        "folder_path = \"input\"\n",
        "\n",
        "rename_files(folder_path)\n"
      ],
      "metadata": {
        "colab": {
          "base_uri": "https://localhost:8080/"
        },
        "id": "UU9a5GVcJ5b5",
        "outputId": "959e5c3e-b1ff-443d-a79c-96f1b6003514"
      },
      "execution_count": null,
      "outputs": [
        {
          "output_type": "stream",
          "name": "stdout",
          "text": [
            "Files renamed successfully!\n"
          ]
        }
      ]
    },
    {
      "cell_type": "code",
      "source": [
        "def get_files_to_list(input_folder):\n",
        "\n",
        "    image_paths = []\n",
        "    # Create output folder if it doesn't exist\n",
        "    for filename in os.listdir(input_folder):\n",
        "        input_path = os.path.join(input_folder, filename)\n",
        "\n",
        "        # Skip directories\n",
        "        if os.path.isdir(input_path):\n",
        "            continue\n",
        "        image_paths.append(input_path[6:])\n",
        "    return image_paths\n",
        "\n",
        "file_list = get_files_to_list(\"input\")"
      ],
      "metadata": {
        "id": "5e4UjmgeLAjq"
      },
      "execution_count": null,
      "outputs": []
    },
    {
      "cell_type": "code",
      "source": [
        "print(file_list)"
      ],
      "metadata": {
        "colab": {
          "base_uri": "https://localhost:8080/"
        },
        "id": "Ips-MAL3Ls1R",
        "outputId": "8d89a514-4e51-4b38-b218-8104aa28e1f6"
      },
      "execution_count": null,
      "outputs": [
        {
          "output_type": "stream",
          "name": "stdout",
          "text": [
            "['173.png', '972.png', '850.png', '32.png', '541.png', '816.png', '700.png', '180.png', '910.png', '764.png', '115.png', '578.png', '673.png', '150.png', '626.png', '796.png', '186.png', '584.png', '162.png', '414.png', '708.png', '65.png', '40.png', '469.png', '536.png', '511.png', '287.png', '216.png', '553.png', '163.png', '493.png', '739.png', '420.png', '721.png', '154.png', '518.png', '176.png', '701.png', '879.png', '410.png', '874.png', '374.png', '159.png', '603.png', '591.png', '404.png', '144.png', '872.png', '432.png', '402.png', '590.png', '229.png', '178.png', '391.png', '539.png', '864.png', '887.png', '711.png', '914.png', '555.png', '220.png', '967.png', '207.png', '240.png', '602.png', '412.png', '278.png', '94.png', '437.png', '845.png', '691.png', '959.png', '394.png', '757.png', '746.png', '97.png', '352.png', '1012.png', '439.png', '339.png', '498.png', '868.png', '113.png', '462.png', '333.png', '468.png', '254.png', '587.png', '892.png', '367.png', '599.png', '423.png', '319.png', '704.png', '263.png', '463.png', '1016.png', '195.png', '425.png', '545.png', '445.png', '771.png', '370.png', '348.png', '226.png', '522.png', '632.png', '133.png', '398.png', '824.png', '862.png', '386.png', '504.png', '895.png', '298.png', '876.png', '443.png', '421.png', '424.png', '526.png', '661.png', '894.png', '574.png', '750.png', '675.png', '804.png', '769.png', '649.png', '843.png', '208.png', '755.png', '640.png', '147.png', '896.png', '393.png', '891.png', '633.png', '920.png', '327.png', '450.png', '203.png', '870.png', '707.png', '264.png', '984.png', '931.png', '855.png', '706.png', '267.png', '811.png', '612.png', '784.png', '525.png', '530.png', '671.png', '620.png', '548.png', '790.png', '944.png', '799.png', '199.png', '907.png', '762.png', '885.png', '690.png', '206.png', '217.png', '720.png', '882.png', '829.png', '996.png', '251.png', '1000.png', '537.png', '527.png', '442.png', '440.png', '239.png', '926.png', '963.png', '780.png', '725.png', '974.png', '340.png', '638.png', '379.png', '341.png', '991.png', '979.png', '601.png', '382.png', '485.png', '569.png', '330.png', '637.png', '912.png', '583.png', '359.png', '646.png', '271.png', '1002.png', '808.png', '554.png', '467.png', '817.png', '761.png', '693.png', '546.png', '859.png', '741.png', '932.png', '951.png', '658.png', '332.png', '570.png', '647.png', '265.png', '743.png', '881.png', '362.png', '486.png', '557.png', '372.png', '672.png', '308.png', '692.png', '305.png', '320.png', '992.png', '289.png', '803.png', '634.png', '702.png', '710.png', '316.png', '335.png', '617.png', '619.png', '329.png', '993.png', '488.png', '453.png', '358.png', '770.png', '1003.png', '568.png', '866.png', '793.png', '392.png', '489.png', '356.png', '608.png', '915.png', '851.png', '509.png', '777.png', '705.png', '856.png', '852.png', '997.png', '328.png', '742.png', '883.png', '652.png', '452.png', '502.png', '697.png', '385.png', '378.png', '436.png', '336.png', '399.png', '384.png', '988.png', '532.png', '981.png', '542.png', '543.png', '435.png', '487.png', '1004.png', '611.png', '898.png', '985.png', '466.png', '376.png', '760.png', '479.png', '415.png', '807.png', '460.png', '952.png', '971.png', '919.png', '550.png', '396.png', '494.png', '531.png', '688.png', '737.png', '759.png', '785.png', '645.png', '581.png', '571.png', '957.png', '513.png', '426.png', '428.png', '621.png', '665.png', '723.png', '624.png', '975.png', '731.png', '482.png', '512.png', '865.png', '904.png', '573.png', '917.png', '844.png', '714.png', '869.png', '593.png', '766.png', '751.png', '938.png', '588.png', '900.png', '642.png', '559.png', '950.png', '970.png', '717.png', '594.png', '973.png', '464.png', '738.png', '722.png', '678.png', '609.png', '961.png', '778.png', '643.png', '830.png', '994.png', '533.png', '1009.png', '854.png', '496.png', '827.png', '913.png', '648.png', '834.png', '644.png', '956.png', '715.png', '616.png', '806.png', '699.png', '730.png', '623.png', '948.png', '789.png', '878.png', '947.png', '801.png', '772.png', '924.png', '902.png', '754.png', '794.png', '668.png', '877.png', '1014.png', '650.png', '670.png', '849.png', '576.png', '639.png', '848.png', '740.png', '538.png', '660.png', '909.png', '745.png', '927.png', '823.png', '860.png', '812.png', '585.png', '1020.png', '575.png', '618.png', '1011.png', '1018.png', '964.png', '905.png', '888.png', '656.png', '832.png', '800.png', '641.png', '662.png', '857.png', '821.png', '998.png', '674.png', '773.png', '727.png', '680.png', '698.png', '990.png', '1024.png', '712.png', '937.png', '653.png', '683.png', '748.png', '976.png', '842.png', '908.png', '833.png', '814.png', '958.png', '921.png', '782.png', '1005.png', '663.png', '749.png', '945.png', '960.png', '858.png', '839.png', '863.png', '718.png', '792.png', '696.png', '871.png', '694.png', '779.png', '734.png', '966.png', '810.png', '1021.png', '774.png', '884.png', '835.png', '939.png', '934.png', '787.png', '867.png', '826.png', '791.png', '897.png', '925.png', '986.png', '838.png', '1023.png', '903.png', '918.png', '983.png', '1019.png', '1001.png', '943.png', '1008.png', '941.png', '962.png', '813.png', '837.png', '825.png', '873.png', '968.png', '861.png', '916.png', '965.png', '889.png', '978.png', '982.png', '936.png', '911.png', '841.png', '1007.png', '880.png', '836.png', '942.png', '890.png', '923.png', '922.png', '953.png', '840.png', '935.png', '893.png', '1013.png', '933.png', '1006.png', '969.png', '954.png', '1015.png', '995.png', '999.png', '1022.png', '1017.png', '987.png', '980.png', '1010.png']\n"
          ]
        }
      ]
    },
    {
      "cell_type": "code",
      "source": [
        "# Define a custom sorting key function to extract the numeric part of the file paths\n",
        "def key_function(file_path):\n",
        "    # Extract the numeric part of the file name\n",
        "    file_name = os.path.basename(file_path)\n",
        "    numeric_part = \"\".join(filter(str.isdigit, file_name))\n",
        "    return int(numeric_part)\n",
        "\n",
        "# Sort the file paths using the custom sorting key\n",
        "sorted_file_names = sorted(file_list, key=key_function)\n",
        "\n",
        "print(sorted_file_names)"
      ],
      "metadata": {
        "colab": {
          "base_uri": "https://localhost:8080/"
        },
        "id": "SB0IiOFAMhgy",
        "outputId": "0ab00258-6be8-4f1e-8482-cbb8e4806ade"
      },
      "execution_count": null,
      "outputs": [
        {
          "output_type": "stream",
          "name": "stdout",
          "text": [
            "['32.png', '40.png', '65.png', '94.png', '97.png', '113.png', '115.png', '133.png', '144.png', '147.png', '150.png', '154.png', '159.png', '162.png', '163.png', '173.png', '176.png', '178.png', '180.png', '186.png', '195.png', '199.png', '203.png', '206.png', '207.png', '208.png', '216.png', '217.png', '220.png', '226.png', '229.png', '239.png', '240.png', '251.png', '254.png', '263.png', '264.png', '265.png', '267.png', '271.png', '278.png', '287.png', '289.png', '298.png', '305.png', '308.png', '316.png', '319.png', '320.png', '327.png', '328.png', '329.png', '330.png', '332.png', '333.png', '335.png', '336.png', '339.png', '340.png', '341.png', '348.png', '352.png', '356.png', '358.png', '359.png', '362.png', '367.png', '370.png', '372.png', '374.png', '376.png', '378.png', '379.png', '382.png', '384.png', '385.png', '386.png', '391.png', '392.png', '393.png', '394.png', '396.png', '398.png', '399.png', '402.png', '404.png', '410.png', '412.png', '414.png', '415.png', '420.png', '421.png', '423.png', '424.png', '425.png', '426.png', '428.png', '432.png', '435.png', '436.png', '437.png', '439.png', '440.png', '442.png', '443.png', '445.png', '450.png', '452.png', '453.png', '460.png', '462.png', '463.png', '464.png', '466.png', '467.png', '468.png', '469.png', '479.png', '482.png', '485.png', '486.png', '487.png', '488.png', '489.png', '493.png', '494.png', '496.png', '498.png', '502.png', '504.png', '509.png', '511.png', '512.png', '513.png', '518.png', '522.png', '525.png', '526.png', '527.png', '530.png', '531.png', '532.png', '533.png', '536.png', '537.png', '538.png', '539.png', '541.png', '542.png', '543.png', '545.png', '546.png', '548.png', '550.png', '553.png', '554.png', '555.png', '557.png', '559.png', '568.png', '569.png', '570.png', '571.png', '573.png', '574.png', '575.png', '576.png', '578.png', '581.png', '583.png', '584.png', '585.png', '587.png', '588.png', '590.png', '591.png', '593.png', '594.png', '599.png', '601.png', '602.png', '603.png', '608.png', '609.png', '611.png', '612.png', '616.png', '617.png', '618.png', '619.png', '620.png', '621.png', '623.png', '624.png', '626.png', '632.png', '633.png', '634.png', '637.png', '638.png', '639.png', '640.png', '641.png', '642.png', '643.png', '644.png', '645.png', '646.png', '647.png', '648.png', '649.png', '650.png', '652.png', '653.png', '656.png', '658.png', '660.png', '661.png', '662.png', '663.png', '665.png', '668.png', '670.png', '671.png', '672.png', '673.png', '674.png', '675.png', '678.png', '680.png', '683.png', '688.png', '690.png', '691.png', '692.png', '693.png', '694.png', '696.png', '697.png', '698.png', '699.png', '700.png', '701.png', '702.png', '704.png', '705.png', '706.png', '707.png', '708.png', '710.png', '711.png', '712.png', '714.png', '715.png', '717.png', '718.png', '720.png', '721.png', '722.png', '723.png', '725.png', '727.png', '730.png', '731.png', '734.png', '737.png', '738.png', '739.png', '740.png', '741.png', '742.png', '743.png', '745.png', '746.png', '748.png', '749.png', '750.png', '751.png', '754.png', '755.png', '757.png', '759.png', '760.png', '761.png', '762.png', '764.png', '766.png', '769.png', '770.png', '771.png', '772.png', '773.png', '774.png', '777.png', '778.png', '779.png', '780.png', '782.png', '784.png', '785.png', '787.png', '789.png', '790.png', '791.png', '792.png', '793.png', '794.png', '796.png', '799.png', '800.png', '801.png', '803.png', '804.png', '806.png', '807.png', '808.png', '810.png', '811.png', '812.png', '813.png', '814.png', '816.png', '817.png', '821.png', '823.png', '824.png', '825.png', '826.png', '827.png', '829.png', '830.png', '832.png', '833.png', '834.png', '835.png', '836.png', '837.png', '838.png', '839.png', '840.png', '841.png', '842.png', '843.png', '844.png', '845.png', '848.png', '849.png', '850.png', '851.png', '852.png', '854.png', '855.png', '856.png', '857.png', '858.png', '859.png', '860.png', '861.png', '862.png', '863.png', '864.png', '865.png', '866.png', '867.png', '868.png', '869.png', '870.png', '871.png', '872.png', '873.png', '874.png', '876.png', '877.png', '878.png', '879.png', '880.png', '881.png', '882.png', '883.png', '884.png', '885.png', '887.png', '888.png', '889.png', '890.png', '891.png', '892.png', '893.png', '894.png', '895.png', '896.png', '897.png', '898.png', '900.png', '902.png', '903.png', '904.png', '905.png', '907.png', '908.png', '909.png', '910.png', '911.png', '912.png', '913.png', '914.png', '915.png', '916.png', '917.png', '918.png', '919.png', '920.png', '921.png', '922.png', '923.png', '924.png', '925.png', '926.png', '927.png', '931.png', '932.png', '933.png', '934.png', '935.png', '936.png', '937.png', '938.png', '939.png', '941.png', '942.png', '943.png', '944.png', '945.png', '947.png', '948.png', '950.png', '951.png', '952.png', '953.png', '954.png', '956.png', '957.png', '958.png', '959.png', '960.png', '961.png', '962.png', '963.png', '964.png', '965.png', '966.png', '967.png', '968.png', '969.png', '970.png', '971.png', '972.png', '973.png', '974.png', '975.png', '976.png', '978.png', '979.png', '980.png', '981.png', '982.png', '983.png', '984.png', '985.png', '986.png', '987.png', '988.png', '990.png', '991.png', '992.png', '993.png', '994.png', '995.png', '996.png', '997.png', '998.png', '999.png', '1000.png', '1001.png', '1002.png', '1003.png', '1004.png', '1005.png', '1006.png', '1007.png', '1008.png', '1009.png', '1010.png', '1011.png', '1012.png', '1013.png', '1014.png', '1015.png', '1016.png', '1017.png', '1018.png', '1019.png', '1020.png', '1021.png', '1022.png', '1023.png', '1024.png']\n"
          ]
        }
      ]
    },
    {
      "cell_type": "code",
      "source": [
        "def darkest_purple_filter(img):\n",
        "    factor = 110\n",
        "    img[0, :, :] = torch.clamp(img[0, :, :] - factor, 0, 255)\n",
        "    img[1, :, :] = torch.clamp(img[1, :, :] - (factor + 50), 0, 255)\n",
        "    img[2, :, :] = torch.clamp(img[2, :, :] - factor, 0, 255)\n",
        "    return img\n",
        "\n",
        "def dark_purple_filter(img):\n",
        "  \"\"\"Converts image to a grayscale with a deep purple tint.\"\"\"\n",
        "  factor = 80\n",
        "  img[0, :, :] = torch.clamp(img[0, :, :] - factor, 0, 255)\n",
        "  img[1, :, :] = torch.clamp(img[1, :, :] - (factor + 50), 0, 255)\n",
        "  img[2, :, :] = torch.clamp(img[2, :, :] - factor, 0, 255)\n",
        "  return img\n",
        "\n",
        "def light_purple_filter(img):\n",
        "  \"\"\"Converts image to a neutral grayscale with a plum purple tint.\"\"\"\n",
        "  factor = 60\n",
        "  img[0, :, :] = torch.clamp(img[0, :, :] - factor, 0, 255)\n",
        "  img[1, :, :] = torch.clamp(img[1, :, :] - (factor + 40), 0, 255)  # More neutral reduction\n",
        "  img[2, :, :] = torch.clamp(img[2, :, :] - factor, 0, 255)\n",
        "  return img\n",
        "\n",
        "def more_lighter_purple_filter(img):\n",
        "  \"\"\"Converts image to a grayscale with a plum purple tint.\"\"\"\n",
        "  factor = 15\n",
        "  img[0, :, :] = torch.clamp(img[0, :, :] - factor, 0, 255)\n",
        "  img[1, :, :] = torch.clamp(img[1, :, :] - (factor + 40), 0, 255)\n",
        "  img[2, :, :] = torch.clamp(img[2, :, :] - factor, 0, 255)\n",
        "  return img\n",
        "\n",
        "def pink_filter(img):\n",
        "  \"\"\"Converts image to a light grayscale with a mauve tint.\"\"\"\n",
        "  factor = 30\n",
        "  img[0, :, :] = torch.clamp(img[0, :, :] + factor, 0, 255)\n",
        "  img[1, :, :] = torch.clamp(img[1, :, :] + (factor - 50), 0, 255)\n",
        "  img[2, :, :] = torch.clamp(img[2, :, :] + factor, 0, 255)\n",
        "  return img\n",
        "\n",
        "def lightest_pink_filter(img):\n",
        "  \"\"\"Converts image to a very light grayscale with a light pink tint.\"\"\"\n",
        "  factor = 40\n",
        "  img[0, :, :] = torch.clamp(img[0, :, :] + factor, 0, 255)\n",
        "  img[1, :, :] = torch.clamp(img[1, :, :] + (factor - 50), 0, 255)  # Increase green more\n",
        "  img[2, :, :] = torch.clamp(img[2, :, :] + factor, 0, 255)\n",
        "  # Convert to grayscale\n",
        "  # gray = 0.299 * img[0, :, :] + 0.587 * img[1, :, :] + 0.114 * img[2, :, :]\n",
        "  # img = torch.stack([gray, gray, gray], dim=0)\n",
        "  return img"
      ],
      "metadata": {
        "id": "K5Xhmik16yhs"
      },
      "execution_count": null,
      "outputs": []
    },
    {
      "cell_type": "code",
      "source": [
        "def lighten_filter(img):\n",
        "    if img.shape[0] == 4:\n",
        "      factor = 160\n",
        "      img[0, :, :] = torch.clamp(img[0, :, :] + factor, 0,  255)\n",
        "      img[1, :, :] = torch.clamp(img[1, :, :] + factor - 20, 0, 255)\n",
        "      img[2, :, :] = torch.clamp(img[2, :, :] + factor, 0, 255)\n",
        "    return img"
      ],
      "metadata": {
        "id": "aOMsfV7C6dpM"
      },
      "execution_count": null,
      "outputs": []
    },
    {
      "cell_type": "code",
      "source": [
        "def black_filter(img):\n",
        "    factor = 170\n",
        "    img[0, :, :] = torch.clamp(img[0, :, :] - factor, 0, 255)\n",
        "    img[1, :, :] = torch.clamp(img[1, :, :] - (factor + 20), 0, 255)\n",
        "    img[2, :, :] = torch.clamp(img[2, :, :] - factor, 0, 255)\n",
        "    return img"
      ],
      "metadata": {
        "id": "oZF5KDbuaqrT"
      },
      "execution_count": null,
      "outputs": []
    },
    {
      "cell_type": "code",
      "execution_count": null,
      "metadata": {
        "id": "JJNzkcef0fMr"
      },
      "outputs": [],
      "source": [
        "device = torch.device('cuda')\n",
        "# Function to read images from folder, apply purple hue filter, and save them to output folder\n",
        "def process_images_and_save(input_folder, output_folder):\n",
        "\n",
        "    images = []\n",
        "    # Create output folder if it doesn't exist\n",
        "    if not os.path.exists(output_folder):\n",
        "        os.makedirs(output_folder)\n",
        "\n",
        "    transform = transforms.Compose([\n",
        "    transforms.Resize((70, 70)),  # Resize images to 224x224\n",
        "    transforms.ToTensor(),  # Convert PIL image to tensor\n",
        "    transforms.Lambda(lambda x: x * 255)  # Convert pixel values from [0,1] to [0,255]\n",
        "    ])\n",
        "\n",
        "    darkest_purple = [0, 1, 2, 3, 4, 6, 7, 8, 9, 10, 11, 12, 13, 14, 15, 16, 17, 18, 26, 27, 28, 29, 30, 31, 32, 33, 34, 35, 43, 44, 45, 46, 47, 48, 49, 50, 59, 60, 61, 62, 63, 64, 65, 66, 67, 76, 77, 78, 79, 80, 81, 92, 93, 94, 95, 96, 97, 98, 109, 110, 111, 112, 113, 125, 126, 127, 128, 142, 143, 158, 159, 160, 191, 192, 223, 224, 255, 256, 287, 288, 319, 320, 321, 350, 351, 352, 353, 354, 381, 382, 383, 384, 412, 413, 414, 415, 443, 444, 445, 446, 447, 474, 475, 476, 477, 478, 479, 507, 508, 509, 510, 511, 539, 540, 541, 542, 543, 572, 573, 574, 575, 832, 864, 865, 896, 897, 898, 899, 928, 929, 930, 931, 947, 948, 949, 960, 961, 962, 963, 964, 979, 980, 981, 982, 992, 993, 994, 995, 996, 997, 999, 1001, 1004, 1007, 1010, 1011, 1012, 1013, 1014]\n",
        "    darkest_purple_cell = [str(number) + \".png\" for number in darkest_purple]\n",
        "\n",
        "    dark_purple = [19, 20, 21, 22, 23, 24, 25, 36, 37, 38, 39, 40, 41, 42, 51, 58, 68, 75, 82, 83, 91, 99, 108, 114, 124, 129, 130, 141, 144, 145, 146, 157, 161, 174, 175, 176, 190, 193, 222, 225, 254, 257, 286, 289, 318, 322, 349, 355, 380, 385, 386, 387, 388, 411, 416, 442, 506, 538, 571, 604, 605, 606, 607, 639, 800, 833, 834, 835, 851, 852, 866, 867, 882, 883, 884, 900, 915, 916, 917, 932, 933, 946, 950, 965, 966, 967, 969, 970, 972, 973, 975, 977, 978, 983, 987, 991, 998, 1000, 1002, 1003, 1005, 1006, 1008, 1009, 1015, 1016, 1017, 1018, 1019, 1020, 1021, 1022, 1023]\n",
        "    dark_purple_cell = [str(number) + \".png\" for number in darkest_purple]\n",
        "\n",
        "    light_purple = [52, 53, 54, 55, 56, 57, 69, 71, 72, 74, 84, 89, 90, 100, 107, 115, 116, 123, 131, 140, 147, 156, 162, 173, 177, 178, 179, 189, 194, 205, 206, 207, 208, 209, 210, 211, 221, 226, 240, 253, 258, 285, 290, 317, 323, 348, 356, 379, 389, 391, 392, 410, 417, 418, 419, 420, 421, 422, 423, 424, 440, 441, 448, 450, 452, 456, 472, 473, 504, 505, 537, 570, 586, 587, 588, 603, 619, 620, 634, 635, 636, 637, 638, 650, 652, 671, 736, 768, 769, 771, 772, 787, 788, 801, 802, 803, 804, 818, 819, 820, 836, 850, 868, 901, 914, 934, 945, 976]\n",
        "    light_purple_cell = [str(number) + \".png\" for number in light_purple]\n",
        "\n",
        "    more_lighter_purple = [70, 73, 85, 86, 87, 88, 101, 103, 104, 106, 117, 121, 122, 132, 139, 148, 155, 163, 172, 180, 188, 195, 204, 212, 220, 227, 236, 237, 238, 239, 243, 244, 252, 259, 272, 274, 284, 291, 316, 324, 347, 357, 359, 360, 378, 390, 393, 406, 407, 408, 409, 425, 439, 449, 451, 453, 454, 455, 457, 471, 480, 482, 484, 485, 488, 489, 497, 503, 521, 522, 526, 536, 554, 555, 556, 557, 569, 585, 589, 602, 618, 621, 633, 649, 651, 653, 666, 667, 668, 669, 670, 682, 684, 699, 703, 704, 737, 739, 740, 755, 756, 770, 773, 785, 786, 789, 805, 817, 821, 837, 849, 853, 869, 881, 885, 902, 913, 918, 935, 937, 938, 940, 941, 943, 944, 951, 955, 959, 968, 971, 974, 984, 985, 986, 988, 989, 990]\n",
        "    more_lighter_purple_cell = [str(number) + \".png\" for number in more_lighter_purple]\n",
        "\n",
        "    pink = [102, 105, 118, 119, 120, 133, 135, 136, 138, 149, 150, 152, 153, 154, 164, 171, 181, 186, 187, 196, 203, 213, 219, 228, 235, 245, 251, 260, 267, 268, 269, 270, 271, 275, 276, 277, 283, 292, 299, 304, 306, 315, 325, 327, 328, 330, 331, 336, 337, 342, 346, 358, 361, 362, 374, 375, 376, 377, 394, 404, 405, 426, 438, 458, 465, 470, 481, 483, 486, 487, 490, 491, 493, 494, 496, 498, 501, 502, 512, 514, 516, 520, 523, 524, 525, 527, 529, 530, 532, 535, 548, 553, 558, 568, 584, 590, 601, 617, 622, 632, 648, 654, 665, 672, 681, 683, 685, 686, 687, 697, 698, 700, 701, 702, 705, 707, 708, 713, 714, 716, 720, 723, 724, 726, 731, 735, 738, 741, 742, 753, 754, 757, 758, 774, 784, 790, 799, 806, 816, 822, 838, 848, 854, 870, 880, 886, 903, 905, 906, 908, 909, 911, 912, 919, 923, 927, 936, 939, 942, 952, 953, 954, 956, 957, 958]\n",
        "    pink_cell = [str(number) + \".png\" for number in pink]\n",
        "\n",
        "    lightest_pink = [134, 137, 151, 165, 167, 168, 170, 182, 184, 185, 197, 199, 200, 202, 214, 216, 218, 229, 234, 246, 249, 250, 261, 263, 264, 266, 278, 280, 282, 293, 295, 296, 298, 300, 301, 302, 303, 307, 308, 309, 310, 312, 314, 326, 329, 332, 335, 338, 341, 343, 344, 345, 363, 365, 366, 368, 369, 371, 372, 373, 395, 400, 401, 403, 427, 429, 430, 432, 433, 435, 436, 437, 459, 461, 462, 464, 466, 469, 492, 495, 499, 500, 513, 515, 517, 518, 519, 528, 531, 533, 534, 544, 546, 552, 559, 561, 562, 564, 567, 576, 578, 580, 582, 583, 591, 593, 594, 596, 598, 600, 608, 610, 612, 616, 623, 625, 626, 628, 631, 640, 642, 644, 646, 647, 655, 657, 658, 660, 662, 664, 673, 675, 676, 680, 688, 691, 694, 696, 706, 709, 710, 711, 721, 722, 727]\n",
        "    lightest_pink =  lightest_pink + [712, 715, 717, 718, 719, 732, 733, 734, 743, 745, 746, 748, 752, 767, 775, 777, 778, 780, 781, 783, 797, 798, 807, 810, 812, 813, 815, 831, 839, 841, 844, 845, 847, 863, 871, 873, 874, 876, 877, 879, 895, 904, 907, 910, 920, 921, 922, 924, 925, 926, 692, 725, 728, 729, 730, 759, 763, 791, 793, 794, 795, 823, 827, 855, 857, 858, 859, 860, 861, 887, 891, 241, 242, 273, 305]\n",
        "    lightest_pink_cell = [str(number) + \".png\" for number in lightest_pink]\n",
        "\n",
        "    lighten = [166, 169, 183, 198, 201, 215, 217, 230, 231, 232, 233, 247, 248, 262, 265, 279, 281, 294, 297, 311, 313, 333, 334, 339, 340, 364, 367, 370, 396, 397, 398, 399, 402, 428, 431, 434, 460, 463, 467, 468, 545, 547, 549, 550, 551, 560, 563, 565, 566, 577, 579, 581, 592, 595, 597, 599, 609, 611, 613, 614, 615, 624, 627, 629, 630, 641, 643, 645, 656, 659, 661, 663, 674, 677, 678, 679, 689, 690, 693, 695, 744, 747, 749, 750, 751, 760, 761, 762, 764, 765, 766, 776, 779, 782, 792, 796, 808, 809, 811, 814, 824, 825, 826, 828, 829, 830, 840, 842, 843, 846, 856, 862, 872, 875, 878, 888, 889, 890, 892, 893, 894]\n",
        "    lighten_cell = [str(number) + \".png\" for number in lighten]\n",
        "\n",
        "    # for filename in os.listdir(input_folder):\n",
        "    for filename in sorted_file_names:\n",
        "        input_path = os.path.join(input_folder, filename)\n",
        "        # Skip directories\n",
        "        # if os.path.isdir(input_path):\n",
        "        #     continue\n",
        "        output_path = os.path.join(output_folder, filename)\n",
        "\n",
        "        # Read image\n",
        "        img = Image.open(input_path)\n",
        "\n",
        "        # Apply transformation\n",
        "        img = transform(img)\n",
        "\n",
        "        # image_tensor = image_tensor.unsqueeze(0)  # Add a batch dimension\n",
        "        # Check if CUDA is available and move the tensor to GPU\n",
        "        if torch.cuda.is_available():\n",
        "            img = img.to(device)\n",
        "            # print(\"Image moved to CUDA\")\n",
        "        else:\n",
        "            print(\"CUDA is not available, image remains on CPU\")\n",
        "        # numbers = [3, 4, 7, 13, 19, 22, 23]\n",
        "        # ignore_files = [str(number) + \".png\" for number in numbers]\n",
        "        # if filename in ignore_files:\n",
        "        #   img_pil = transforms.ToPILImage()(img.byte())\n",
        "        #   img_pil.save(output_path)\n",
        "        #   images.append(img)\n",
        "        #   continue\n",
        "\n",
        "        # print(filename)\n",
        "        # print(img.shape[0])\n",
        "        if img.shape[0] == 1:\n",
        "          # modified_tensor = torch.full((3, *img.size()[1:]), 255, dtype=img.dtype, device=img.device)\n",
        "          # img = torch.cat((modified_tensor, img), dim=0)\n",
        "          # print(\"Channels = 1: \" + filename)\n",
        "          continue\n",
        "        # if  img.shape[0] < 3 or 4 < img.shape[0] == 3:\n",
        "        #   print(filename)\n",
        "        #   print(img.size())\n",
        "        if img.shape[0] == 3:\n",
        "          # ones_tensor = torch.ones(1, *img.size()[1:], dtype=img.dtype, device=img.device)\n",
        "          modified_tensor = torch.full((1, *img.size()[1:]), 255, dtype=img.dtype, device=img.device)\n",
        "          img = torch.cat((img, modified_tensor), dim=0)\n",
        "          # print(\"Channels = 3: \" + filename)\n",
        "\n",
        "        if img.shape[0] == 4:\n",
        "          # print(\"Accepted\")\n",
        "          # print(img.size())\n",
        "\n",
        "          if filename in darkest_purple_cell:\n",
        "            print(\"d purple: \" + filename)\n",
        "            img = darkest_purple_filter(img)\n",
        "\n",
        "          elif filename in dark_purple_cell:\n",
        "            print(\"dl purple: \" + filename)\n",
        "            img = dark_purple_filter(img)\n",
        "\n",
        "          elif filename in light_purple_cell:\n",
        "            print(\"l purple: \" + filename)\n",
        "            img = light_purple_filter(img)\n",
        "\n",
        "          elif filename in more_lighter_purple_cell:\n",
        "            print(\"ml purple: \" + filename)\n",
        "            img = more_lighter_purple_filter(img)\n",
        "\n",
        "          elif filename in pink_cell:\n",
        "            print(\"pink: \" + filename)\n",
        "            img = pink_filter(img)\n",
        "\n",
        "          elif filename in lightest_pink_cell:\n",
        "            print(\"lightest_pink: \" + filename)\n",
        "            img = lightest_pink_filter(img)\n",
        "\n",
        "          elif filename in lighten_cell:\n",
        "            print(\"lightest_pink: \" + filename)\n",
        "            img = lighten_filter(img)\n",
        "\n",
        "          else:\n",
        "            print(\"black: \" + filename)\n",
        "            img = dark_purple_filter(img)\n",
        "\n",
        "        # Convert tensor back to PIL image\n",
        "          img_pil = transforms.ToPILImage()(img.byte())\n",
        "        # Save processed image to output folder\n",
        "          img_pil.save(output_path)\n",
        "          images.append(img)\n",
        "    return images\n",
        "\n",
        "\n",
        "# Example usage:\n",
        "input_folder = \"input\"\n",
        "output_folder = \"output\"\n",
        "\n",
        "images = process_images_and_save(input_folder, output_folder)\n",
        "len(images)"
      ]
    },
    {
      "cell_type": "code",
      "source": [
        "import math\n",
        "def calculate_square_root(number):\n",
        "    if number < 0:\n",
        "        raise ValueError(\"Cannot calculate square root of a negative number\")\n",
        "    return math.sqrt(number)"
      ],
      "metadata": {
        "id": "BMKMO7GnmE8v"
      },
      "execution_count": null,
      "outputs": []
    },
    {
      "cell_type": "code",
      "source": [
        "def create_collage(images, count):\n",
        "    # Resize images to fit collage\n",
        "    # for img in images:\n",
        "      # print(img.shape)\n",
        "    dim = math.floor(calculate_square_root(count))\n",
        "    img_size = 120\n",
        "    # images = images[0: dim * dim]\n",
        "    print(len(images[0].size()))\n",
        "    resized_images = [torch.nn.functional.interpolate(img.unsqueeze(0), size=(img_size, img_size), mode='bilinear', align_corners=False).squeeze(0) for img in images]\n",
        "    # Create a blank canvas for the collage\n",
        "    collage = torch.zeros(4, dim * img_size,  dim * img_size)\n",
        "\n",
        "    # Place images in the collage\n",
        "    for i in range(dim):\n",
        "        for j in range(dim):\n",
        "            img_index = i * dim + j\n",
        "            if img_index < len(resized_images):\n",
        "                collage[:, i * img_size:(i + 1) * img_size, j * img_size:(j + 1) * img_size] = resized_images[img_index]\n",
        "\n",
        "    return collage\n",
        "\n",
        "\n",
        "# Create collage\n",
        "collage = create_collage(images, count)"
      ],
      "metadata": {
        "id": "RPQIhZdt2AbM",
        "colab": {
          "base_uri": "https://localhost:8080/"
        },
        "outputId": "5ed5b76c-b493-487e-fddf-0b4696bdb265"
      },
      "execution_count": null,
      "outputs": [
        {
          "output_type": "stream",
          "name": "stdout",
          "text": [
            "3\n"
          ]
        }
      ]
    },
    {
      "cell_type": "code",
      "source": [
        "collage.shape"
      ],
      "metadata": {
        "colab": {
          "base_uri": "https://localhost:8080/"
        },
        "id": "Ofp3lwDcCuHo",
        "outputId": "c1afdc47-4fcc-4eb5-bca2-28b96ae3ea38"
      },
      "execution_count": null,
      "outputs": [
        {
          "output_type": "execute_result",
          "data": {
            "text/plain": [
              "torch.Size([4, 3840, 3840])"
            ]
          },
          "metadata": {},
          "execution_count": 180
        }
      ]
    },
    {
      "cell_type": "code",
      "source": [
        "def save_image(img, output_folder):\n",
        "  if not os.path.exists(output_folder):\n",
        "        os.makedirs(output_folder)\n",
        "  output_path = os.path.join(output_folder, \"collage.png\")\n",
        "  img_pil = transforms.ToPILImage()(img.byte())\n",
        "  # Save processed image to output folder\n",
        "  img_pil.save(output_path)"
      ],
      "metadata": {
        "id": "un4qnmp-BkgY"
      },
      "execution_count": null,
      "outputs": []
    },
    {
      "cell_type": "code",
      "source": [
        "save_image(collage, \"collage\")"
      ],
      "metadata": {
        "id": "o4cTxV3uCPhJ"
      },
      "execution_count": null,
      "outputs": []
    }
  ]
}